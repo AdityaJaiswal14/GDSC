{
  "nbformat": 4,
  "nbformat_minor": 0,
  "metadata": {
    "colab": {
      "provenance": [],
      "authorship_tag": "ABX9TyNs++c3Em7Um5vjf93KA/SN",
      "include_colab_link": true
    },
    "kernelspec": {
      "name": "python3",
      "display_name": "Python 3"
    },
    "language_info": {
      "name": "python"
    }
  },
  "cells": [
    {
      "cell_type": "markdown",
      "metadata": {
        "id": "view-in-github",
        "colab_type": "text"
      },
      "source": [
        "<a href=\"https://colab.research.google.com/github/AdityaJaiswal14/GDSC/blob/main/GDSC_ML_1_1.ipynb\" target=\"_parent\"><img src=\"https://colab.research.google.com/assets/colab-badge.svg\" alt=\"Open In Colab\"/></a>"
      ]
    },
    {
      "cell_type": "code",
      "execution_count": null,
      "metadata": {
        "colab": {
          "base_uri": "https://localhost:8080/"
        },
        "id": "wT6NdcYGVPNg",
        "outputId": "1f32292a-15d5-4c19-96bc-c322da29d660"
      },
      "outputs": [
        {
          "output_type": "stream",
          "name": "stdout",
          "text": [
            "Enter desired password length (e.g., 8): 5\n",
            "Include uppercase letters? (y/n): y\n",
            "Include lowercase letters? (y/n): n\n",
            "Include numbers? (y/n): y\n",
            "Include special characters? (y/n): n\n",
            "Generated password: 21I4Z\n"
          ]
        }
      ],
      "source": [
        "import random\n",
        "import string\n",
        "\n",
        "def generate_password(length=8, use_uppercase=True, use_lowercase=True, use_numbers=True, use_special_chars=True):\n",
        "\n",
        "    char_pool = ''\n",
        "\n",
        "    if use_uppercase:\n",
        "        char_pool += string.ascii_uppercase\n",
        "\n",
        "    if use_lowercase:\n",
        "        char_pool += string.ascii_lowercase\n",
        "\n",
        "    if use_numbers:\n",
        "        char_pool += string.digits\n",
        "\n",
        "    if use_special_chars:\n",
        "        char_pool += string.punctuation\n",
        "\n",
        "    if not char_pool:\n",
        "        raise ValueError(\"At least one character set must be selected.\")\n",
        "\n",
        "    password = ''.join(random.choice(char_pool) for i in range(length))\n",
        "\n",
        "    return password\n",
        "\n",
        "if __name__ == \"__main__\":\n",
        "    length = int(input(\"Enter desired password length (e.g., 8): \"))\n",
        "    use_upper = input(\"Include uppercase letters? (y/n): \").lower() == 'y'\n",
        "    use_lower = input(\"Include lowercase letters? (y/n): \").lower() == 'y'\n",
        "    use_nums = input(\"Include numbers? (y/n): \").lower() == 'y'\n",
        "    use_special = input(\"Include special characters? (y/n): \").lower() == 'y'\n",
        "\n",
        "    password = generate_password(length, use_upper, use_lower, use_nums, use_special)\n",
        "    print(f\"Generated password: {password}\")\n"
      ]
    }
  ]
}