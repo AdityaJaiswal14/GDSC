{
  "nbformat": 4,
  "nbformat_minor": 0,
  "metadata": {
    "colab": {
      "provenance": [],
      "authorship_tag": "ABX9TyNqnViZ9TyOtJfLfYespihi",
      "include_colab_link": true
    },
    "kernelspec": {
      "name": "python3",
      "display_name": "Python 3"
    },
    "language_info": {
      "name": "python"
    }
  },
  "cells": [
    {
      "cell_type": "markdown",
      "metadata": {
        "id": "view-in-github",
        "colab_type": "text"
      },
      "source": [
        "<a href=\"https://colab.research.google.com/github/AdityaJaiswal14/GDSC/blob/main/GDSC_ML_1_2.ipynb\" target=\"_parent\"><img src=\"https://colab.research.google.com/assets/colab-badge.svg\" alt=\"Open In Colab\"/></a>"
      ]
    },
    {
      "cell_type": "code",
      "execution_count": null,
      "metadata": {
        "id": "vlI3BRCEXOyg"
      },
      "outputs": [],
      "source": [
        "def safe_calculator(expression: str) -> float:\n",
        "\n",
        "    allowed_chars = set(\"0123456789.+-*/() \")\n",
        "    if set(expression) <= allowed_chars:\n",
        "        try:\n",
        "            return eval(expression)\n",
        "        except ZeroDivisionError:\n",
        "            return \"Error: Division by zero!\"\n",
        "        except Exception as e:\n",
        "            return f\"Error: {e}\"\n",
        "    else:\n",
        "        return \"Error: Invalid characters in expression\"\n",
        "\n",
        "if __name__ == \"__main__\":\n",
        "    while True:\n",
        "        expression = input(\"Enter an expression (or 'quit' to exit): \").strip().lower()\n",
        "        if expression == 'quit':\n",
        "            break\n",
        "        print(f\"Result: {safe_calculator(expression)}\")\n"
      ]
    }
  ]
}